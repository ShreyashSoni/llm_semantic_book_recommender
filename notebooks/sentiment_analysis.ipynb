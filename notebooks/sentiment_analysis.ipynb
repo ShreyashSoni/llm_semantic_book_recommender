{
 "cells": [
  {
   "cell_type": "code",
   "execution_count": 1,
   "id": "741d6258",
   "metadata": {},
   "outputs": [
    {
     "data": {
      "application/vnd.microsoft.datawrangler.viewer.v0+json": {
       "columns": [
        {
         "name": "index",
         "rawType": "int64",
         "type": "integer"
        },
        {
         "name": "isbn13",
         "rawType": "int64",
         "type": "integer"
        },
        {
         "name": "isbn10",
         "rawType": "object",
         "type": "string"
        },
        {
         "name": "title",
         "rawType": "object",
         "type": "string"
        },
        {
         "name": "authors",
         "rawType": "object",
         "type": "string"
        },
        {
         "name": "categories",
         "rawType": "object",
         "type": "string"
        },
        {
         "name": "thumbnail",
         "rawType": "object",
         "type": "string"
        },
        {
         "name": "description",
         "rawType": "object",
         "type": "string"
        },
        {
         "name": "published_year",
         "rawType": "float64",
         "type": "float"
        },
        {
         "name": "average_rating",
         "rawType": "float64",
         "type": "float"
        },
        {
         "name": "num_pages",
         "rawType": "float64",
         "type": "float"
        },
        {
         "name": "ratings_count",
         "rawType": "float64",
         "type": "float"
        },
        {
         "name": "title_and_subtitle",
         "rawType": "object",
         "type": "string"
        },
        {
         "name": "tagged_description",
         "rawType": "object",
         "type": "string"
        },
        {
         "name": "simple_categories",
         "rawType": "object",
         "type": "string"
        }
       ],
       "ref": "bba8d54c-136c-4e19-b737-12e4619801b8",
       "rows": [
        [
         "0",
         "9780002005883",
         "0002005883",
         "Gilead",
         "Marilynne Robinson",
         "Fiction",
         "http://books.google.com/books/content?id=KQZCPgAACAAJ&printsec=frontcover&img=1&zoom=1&source=gbs_api",
         "A NOVEL THAT READERS and critics have been eagerly anticipating for over a decade, Gilead is an astonishingly imagined story of remarkable lives. John Ames is a preacher, the son of a preacher and the grandson (both maternal and paternal) of preachers. It’s 1956 in Gilead, Iowa, towards the end of the Reverend Ames’s life, and he is absorbed in recording his family’s story, a legacy for the young son he will never see grow up. Haunted by his grandfather’s presence, John tells of the rift between his grandfather and his father: the elder, an angry visionary who fought for the abolitionist cause, and his son, an ardent pacifist. He is troubled, too, by his prodigal namesake, Jack (John Ames) Boughton, his best friend’s lost son who returns to Gilead searching for forgiveness and redemption. Told in John Ames’s joyous, rambling voice that finds beauty, humour and truth in the smallest of life’s details, Gilead is a song of celebration and acceptance of the best and the worst the world has to offer. At its heart is a tale of the sacred bonds between fathers and sons, pitch-perfect in style and story, set to dazzle critics and readers alike.",
         "2004.0",
         "3.85",
         "247.0",
         "361.0",
         "Gilead",
         "9780002005883 A NOVEL THAT READERS and critics have been eagerly anticipating for over a decade, Gilead is an astonishingly imagined story of remarkable lives. John Ames is a preacher, the son of a preacher and the grandson (both maternal and paternal) of preachers. It’s 1956 in Gilead, Iowa, towards the end of the Reverend Ames’s life, and he is absorbed in recording his family’s story, a legacy for the young son he will never see grow up. Haunted by his grandfather’s presence, John tells of the rift between his grandfather and his father: the elder, an angry visionary who fought for the abolitionist cause, and his son, an ardent pacifist. He is troubled, too, by his prodigal namesake, Jack (John Ames) Boughton, his best friend’s lost son who returns to Gilead searching for forgiveness and redemption. Told in John Ames’s joyous, rambling voice that finds beauty, humour and truth in the smallest of life’s details, Gilead is a song of celebration and acceptance of the best and the worst the world has to offer. At its heart is a tale of the sacred bonds between fathers and sons, pitch-perfect in style and story, set to dazzle critics and readers alike.",
         "Fiction"
        ],
        [
         "1",
         "9780002261982",
         "0002261987",
         "Spider's Web",
         "Charles Osborne;Agatha Christie",
         "Detective and mystery stories",
         "http://books.google.com/books/content?id=gA5GPgAACAAJ&printsec=frontcover&img=1&zoom=1&source=gbs_api",
         "A new 'Christie for Christmas' -- a full-length novel adapted from her acclaimed play by Charles Osborne Following BLACK COFFEE and THE UNEXPECTED GUEST comes the final Agatha Christie play novelisation, bringing her superb storytelling to a new legion of fans. Clarissa, the wife of a Foreign Office diplomat, is given to daydreaming. 'Supposing I were to come down one morning and find a dead body in the library, what should I do?' she muses. Clarissa has her chance to find out when she discovers a body in the drawing-room of her house in Kent. Desperate to dispose of the body before her husband comes home with an important foreign politician, Clarissa persuades her three house guests to become accessories and accomplices. It seems that the murdered man was not unknown to certain members of the house party (but which ones?), and the search begins for the murderer and the motive, while at the same time trying to persuade a police inspector that there has been no murder at all... SPIDER'S WEB was written in 1954 specifically for Margaret Lockwood and opened first at the Theatre Royal Nottingham before moving to the Savoy Theatre in London on 14 December 1954. With THE MOUSETRAP and WI",
         "2000.0",
         "3.83",
         "241.0",
         "5164.0",
         "Spider's Web: A Novel",
         "9780002261982 A new 'Christie for Christmas' -- a full-length novel adapted from her acclaimed play by Charles Osborne Following BLACK COFFEE and THE UNEXPECTED GUEST comes the final Agatha Christie play novelisation, bringing her superb storytelling to a new legion of fans. Clarissa, the wife of a Foreign Office diplomat, is given to daydreaming. 'Supposing I were to come down one morning and find a dead body in the library, what should I do?' she muses. Clarissa has her chance to find out when she discovers a body in the drawing-room of her house in Kent. Desperate to dispose of the body before her husband comes home with an important foreign politician, Clarissa persuades her three house guests to become accessories and accomplices. It seems that the murdered man was not unknown to certain members of the house party (but which ones?), and the search begins for the murderer and the motive, while at the same time trying to persuade a police inspector that there has been no murder at all... SPIDER'S WEB was written in 1954 specifically for Margaret Lockwood and opened first at the Theatre Royal Nottingham before moving to the Savoy Theatre in London on 14 December 1954. With THE MOUSETRAP and WI",
         "Fiction"
        ],
        [
         "2",
         "9780006178736",
         "0006178731",
         "Rage of angels",
         "Sidney Sheldon",
         "Fiction",
         "http://books.google.com/books/content?id=FKo2TgANz74C&printsec=frontcover&img=1&zoom=1&source=gbs_api",
         "A memorable, mesmerizing heroine Jennifer -- brilliant, beautiful, an attorney on the way up until the Mafia's schemes win her the hatred of an implacable enemy -- and a love more destructive than hate. A dangerous, dramatic world The Dark Arena of organized crime and flashbulb lit courtrooms where ambitious prosecutors begin their climb to political power.",
         "1993.0",
         "3.93",
         "512.0",
         "29532.0",
         "Rage of angels",
         "9780006178736 A memorable, mesmerizing heroine Jennifer -- brilliant, beautiful, an attorney on the way up until the Mafia's schemes win her the hatred of an implacable enemy -- and a love more destructive than hate. A dangerous, dramatic world The Dark Arena of organized crime and flashbulb lit courtrooms where ambitious prosecutors begin their climb to political power.",
         "Fiction"
        ],
        [
         "3",
         "9780006280897",
         "0006280897",
         "The Four Loves",
         "Clive Staples Lewis",
         "Christian life",
         "http://books.google.com/books/content?id=XhQ5XsFcpGIC&printsec=frontcover&img=1&zoom=1&source=gbs_api",
         "Lewis' work on the nature of love divides love into four categories; Affection, Friendship, Eros and Charity. The first three come naturally to humanity. Charity, however, the Gift-love of God, is divine, and without this supernatural love, the natural loves become distorted and even dangerous.",
         "2002.0",
         "4.15",
         "170.0",
         "33684.0",
         "The Four Loves",
         "9780006280897 Lewis' work on the nature of love divides love into four categories; Affection, Friendship, Eros and Charity. The first three come naturally to humanity. Charity, however, the Gift-love of God, is divine, and without this supernatural love, the natural loves become distorted and even dangerous.",
         "Nonfiction"
        ],
        [
         "4",
         "9780006280934",
         "0006280935",
         "The Problem of Pain",
         "Clive Staples Lewis",
         "Christian life",
         "http://books.google.com/books/content?id=Kk-uVe5QK-gC&printsec=frontcover&img=1&zoom=1&source=gbs_api",
         "\"In The Problem of Pain, C.S. Lewis, one of the most renowned Christian authors and thinkers, examines a universally applicable question within the human condition: If God is good and all-powerful, why does he allow his creatures to suffer pain? With his signature wealth of compassion and insight, C.S. Lewis offers answers to these crucial questions and shares his hope and wisdom to help heal a world hungering for a true understanding of human nature.\"--Amazon.",
         "2002.0",
         "4.09",
         "176.0",
         "37569.0",
         "The Problem of Pain",
         "9780006280934 \"In The Problem of Pain, C.S. Lewis, one of the most renowned Christian authors and thinkers, examines a universally applicable question within the human condition: If God is good and all-powerful, why does he allow his creatures to suffer pain? With his signature wealth of compassion and insight, C.S. Lewis offers answers to these crucial questions and shares his hope and wisdom to help heal a world hungering for a true understanding of human nature.\"--Amazon.",
         "Nonfiction"
        ]
       ],
       "shape": {
        "columns": 14,
        "rows": 5
       }
      },
      "text/html": [
       "<div>\n",
       "<style scoped>\n",
       "    .dataframe tbody tr th:only-of-type {\n",
       "        vertical-align: middle;\n",
       "    }\n",
       "\n",
       "    .dataframe tbody tr th {\n",
       "        vertical-align: top;\n",
       "    }\n",
       "\n",
       "    .dataframe thead th {\n",
       "        text-align: right;\n",
       "    }\n",
       "</style>\n",
       "<table border=\"1\" class=\"dataframe\">\n",
       "  <thead>\n",
       "    <tr style=\"text-align: right;\">\n",
       "      <th></th>\n",
       "      <th>isbn13</th>\n",
       "      <th>isbn10</th>\n",
       "      <th>title</th>\n",
       "      <th>authors</th>\n",
       "      <th>categories</th>\n",
       "      <th>thumbnail</th>\n",
       "      <th>description</th>\n",
       "      <th>published_year</th>\n",
       "      <th>average_rating</th>\n",
       "      <th>num_pages</th>\n",
       "      <th>ratings_count</th>\n",
       "      <th>title_and_subtitle</th>\n",
       "      <th>tagged_description</th>\n",
       "      <th>simple_categories</th>\n",
       "    </tr>\n",
       "  </thead>\n",
       "  <tbody>\n",
       "    <tr>\n",
       "      <th>0</th>\n",
       "      <td>9780002005883</td>\n",
       "      <td>0002005883</td>\n",
       "      <td>Gilead</td>\n",
       "      <td>Marilynne Robinson</td>\n",
       "      <td>Fiction</td>\n",
       "      <td>http://books.google.com/books/content?id=KQZCP...</td>\n",
       "      <td>A NOVEL THAT READERS and critics have been eag...</td>\n",
       "      <td>2004.0</td>\n",
       "      <td>3.85</td>\n",
       "      <td>247.0</td>\n",
       "      <td>361.0</td>\n",
       "      <td>Gilead</td>\n",
       "      <td>9780002005883 A NOVEL THAT READERS and critics...</td>\n",
       "      <td>Fiction</td>\n",
       "    </tr>\n",
       "    <tr>\n",
       "      <th>1</th>\n",
       "      <td>9780002261982</td>\n",
       "      <td>0002261987</td>\n",
       "      <td>Spider's Web</td>\n",
       "      <td>Charles Osborne;Agatha Christie</td>\n",
       "      <td>Detective and mystery stories</td>\n",
       "      <td>http://books.google.com/books/content?id=gA5GP...</td>\n",
       "      <td>A new 'Christie for Christmas' -- a full-lengt...</td>\n",
       "      <td>2000.0</td>\n",
       "      <td>3.83</td>\n",
       "      <td>241.0</td>\n",
       "      <td>5164.0</td>\n",
       "      <td>Spider's Web: A Novel</td>\n",
       "      <td>9780002261982 A new 'Christie for Christmas' -...</td>\n",
       "      <td>Fiction</td>\n",
       "    </tr>\n",
       "    <tr>\n",
       "      <th>2</th>\n",
       "      <td>9780006178736</td>\n",
       "      <td>0006178731</td>\n",
       "      <td>Rage of angels</td>\n",
       "      <td>Sidney Sheldon</td>\n",
       "      <td>Fiction</td>\n",
       "      <td>http://books.google.com/books/content?id=FKo2T...</td>\n",
       "      <td>A memorable, mesmerizing heroine Jennifer -- b...</td>\n",
       "      <td>1993.0</td>\n",
       "      <td>3.93</td>\n",
       "      <td>512.0</td>\n",
       "      <td>29532.0</td>\n",
       "      <td>Rage of angels</td>\n",
       "      <td>9780006178736 A memorable, mesmerizing heroine...</td>\n",
       "      <td>Fiction</td>\n",
       "    </tr>\n",
       "    <tr>\n",
       "      <th>3</th>\n",
       "      <td>9780006280897</td>\n",
       "      <td>0006280897</td>\n",
       "      <td>The Four Loves</td>\n",
       "      <td>Clive Staples Lewis</td>\n",
       "      <td>Christian life</td>\n",
       "      <td>http://books.google.com/books/content?id=XhQ5X...</td>\n",
       "      <td>Lewis' work on the nature of love divides love...</td>\n",
       "      <td>2002.0</td>\n",
       "      <td>4.15</td>\n",
       "      <td>170.0</td>\n",
       "      <td>33684.0</td>\n",
       "      <td>The Four Loves</td>\n",
       "      <td>9780006280897 Lewis' work on the nature of lov...</td>\n",
       "      <td>Nonfiction</td>\n",
       "    </tr>\n",
       "    <tr>\n",
       "      <th>4</th>\n",
       "      <td>9780006280934</td>\n",
       "      <td>0006280935</td>\n",
       "      <td>The Problem of Pain</td>\n",
       "      <td>Clive Staples Lewis</td>\n",
       "      <td>Christian life</td>\n",
       "      <td>http://books.google.com/books/content?id=Kk-uV...</td>\n",
       "      <td>\"In The Problem of Pain, C.S. Lewis, one of th...</td>\n",
       "      <td>2002.0</td>\n",
       "      <td>4.09</td>\n",
       "      <td>176.0</td>\n",
       "      <td>37569.0</td>\n",
       "      <td>The Problem of Pain</td>\n",
       "      <td>9780006280934 \"In The Problem of Pain, C.S. Le...</td>\n",
       "      <td>Nonfiction</td>\n",
       "    </tr>\n",
       "  </tbody>\n",
       "</table>\n",
       "</div>"
      ],
      "text/plain": [
       "          isbn13      isbn10                title  \\\n",
       "0  9780002005883  0002005883               Gilead   \n",
       "1  9780002261982  0002261987         Spider's Web   \n",
       "2  9780006178736  0006178731       Rage of angels   \n",
       "3  9780006280897  0006280897       The Four Loves   \n",
       "4  9780006280934  0006280935  The Problem of Pain   \n",
       "\n",
       "                           authors                     categories  \\\n",
       "0               Marilynne Robinson                        Fiction   \n",
       "1  Charles Osborne;Agatha Christie  Detective and mystery stories   \n",
       "2                   Sidney Sheldon                        Fiction   \n",
       "3              Clive Staples Lewis                 Christian life   \n",
       "4              Clive Staples Lewis                 Christian life   \n",
       "\n",
       "                                           thumbnail  \\\n",
       "0  http://books.google.com/books/content?id=KQZCP...   \n",
       "1  http://books.google.com/books/content?id=gA5GP...   \n",
       "2  http://books.google.com/books/content?id=FKo2T...   \n",
       "3  http://books.google.com/books/content?id=XhQ5X...   \n",
       "4  http://books.google.com/books/content?id=Kk-uV...   \n",
       "\n",
       "                                         description  published_year  \\\n",
       "0  A NOVEL THAT READERS and critics have been eag...          2004.0   \n",
       "1  A new 'Christie for Christmas' -- a full-lengt...          2000.0   \n",
       "2  A memorable, mesmerizing heroine Jennifer -- b...          1993.0   \n",
       "3  Lewis' work on the nature of love divides love...          2002.0   \n",
       "4  \"In The Problem of Pain, C.S. Lewis, one of th...          2002.0   \n",
       "\n",
       "   average_rating  num_pages  ratings_count     title_and_subtitle  \\\n",
       "0            3.85      247.0          361.0                 Gilead   \n",
       "1            3.83      241.0         5164.0  Spider's Web: A Novel   \n",
       "2            3.93      512.0        29532.0         Rage of angels   \n",
       "3            4.15      170.0        33684.0         The Four Loves   \n",
       "4            4.09      176.0        37569.0    The Problem of Pain   \n",
       "\n",
       "                                  tagged_description simple_categories  \n",
       "0  9780002005883 A NOVEL THAT READERS and critics...           Fiction  \n",
       "1  9780002261982 A new 'Christie for Christmas' -...           Fiction  \n",
       "2  9780006178736 A memorable, mesmerizing heroine...           Fiction  \n",
       "3  9780006280897 Lewis' work on the nature of lov...        Nonfiction  \n",
       "4  9780006280934 \"In The Problem of Pain, C.S. Le...        Nonfiction  "
      ]
     },
     "execution_count": 1,
     "metadata": {},
     "output_type": "execute_result"
    }
   ],
   "source": [
    "import pandas as pd\n",
    "\n",
    "books = pd.read_csv(\"../data/books_with_categories.csv\")\n",
    "books.head()"
   ]
  },
  {
   "cell_type": "code",
   "execution_count": 3,
   "id": "c8d38baf",
   "metadata": {},
   "outputs": [
    {
     "name": "stderr",
     "output_type": "stream",
     "text": [
      "Device set to use cpu\n"
     ]
    },
    {
     "data": {
      "text/plain": [
       "[[{'label': 'joy', 'score': 0.9771687984466553},\n",
       "  {'label': 'surprise', 'score': 0.008528691716492176},\n",
       "  {'label': 'neutral', 'score': 0.005764589179307222},\n",
       "  {'label': 'anger', 'score': 0.004419791977852583},\n",
       "  {'label': 'sadness', 'score': 0.002092393347993493},\n",
       "  {'label': 'disgust', 'score': 0.001611992483958602},\n",
       "  {'label': 'fear', 'score': 0.0004138525982853025}]]"
      ]
     },
     "execution_count": 3,
     "metadata": {},
     "output_type": "execute_result"
    }
   ],
   "source": [
    "# Use a pipeline as a high-level helper\n",
    "from transformers import pipeline\n",
    "\n",
    "classifier = pipeline(\"text-classification\", \n",
    "                model=\"j-hartmann/emotion-english-distilroberta-base\", \n",
    "                top_k=None)\n",
    "\n",
    "classifier(\"I love this!\")"
   ]
  },
  {
   "cell_type": "code",
   "execution_count": 4,
   "id": "fca8dfbb",
   "metadata": {},
   "outputs": [
    {
     "data": {
      "text/plain": [
       "'A NOVEL THAT READERS and critics have been eagerly anticipating for over a decade, Gilead is an astonishingly imagined story of remarkable lives. John Ames is a preacher, the son of a preacher and the grandson (both maternal and paternal) of preachers. It’s 1956 in Gilead, Iowa, towards the end of the Reverend Ames’s life, and he is absorbed in recording his family’s story, a legacy for the young son he will never see grow up. Haunted by his grandfather’s presence, John tells of the rift between his grandfather and his father: the elder, an angry visionary who fought for the abolitionist cause, and his son, an ardent pacifist. He is troubled, too, by his prodigal namesake, Jack (John Ames) Boughton, his best friend’s lost son who returns to Gilead searching for forgiveness and redemption. Told in John Ames’s joyous, rambling voice that finds beauty, humour and truth in the smallest of life’s details, Gilead is a song of celebration and acceptance of the best and the worst the world has to offer. At its heart is a tale of the sacred bonds between fathers and sons, pitch-perfect in style and story, set to dazzle critics and readers alike.'"
      ]
     },
     "execution_count": 4,
     "metadata": {},
     "output_type": "execute_result"
    }
   ],
   "source": [
    "books[\"description\"][0]"
   ]
  },
  {
   "cell_type": "code",
   "execution_count": 5,
   "id": "50add4bc",
   "metadata": {},
   "outputs": [
    {
     "data": {
      "text/plain": [
       "[[{'label': 'fear', 'score': 0.6548402309417725},\n",
       "  {'label': 'neutral', 'score': 0.16985242068767548},\n",
       "  {'label': 'sadness', 'score': 0.1164093017578125},\n",
       "  {'label': 'surprise', 'score': 0.020700663328170776},\n",
       "  {'label': 'disgust', 'score': 0.019100690260529518},\n",
       "  {'label': 'joy', 'score': 0.015161467716097832},\n",
       "  {'label': 'anger', 'score': 0.003935147542506456}]]"
      ]
     },
     "execution_count": 5,
     "metadata": {},
     "output_type": "execute_result"
    }
   ],
   "source": [
    "classifier(books[\"description\"][0])"
   ]
  },
  {
   "cell_type": "code",
   "execution_count": 6,
   "id": "a41f3947",
   "metadata": {},
   "outputs": [
    {
     "data": {
      "text/plain": [
       "[[{'label': 'surprise', 'score': 0.7296021580696106},\n",
       "  {'label': 'neutral', 'score': 0.14038598537445068},\n",
       "  {'label': 'fear', 'score': 0.06816227734088898},\n",
       "  {'label': 'joy', 'score': 0.04794260486960411},\n",
       "  {'label': 'anger', 'score': 0.009156367741525173},\n",
       "  {'label': 'disgust', 'score': 0.0026284768246114254},\n",
       "  {'label': 'sadness', 'score': 0.002122163772583008}],\n",
       " [{'label': 'neutral', 'score': 0.4493706524372101},\n",
       "  {'label': 'disgust', 'score': 0.27359113097190857},\n",
       "  {'label': 'joy', 'score': 0.1090831384062767},\n",
       "  {'label': 'sadness', 'score': 0.09362747520208359},\n",
       "  {'label': 'anger', 'score': 0.04047833010554314},\n",
       "  {'label': 'surprise', 'score': 0.02697019837796688},\n",
       "  {'label': 'fear', 'score': 0.006879049818962812}],\n",
       " [{'label': 'neutral', 'score': 0.6462159156799316},\n",
       "  {'label': 'sadness', 'score': 0.242733433842659},\n",
       "  {'label': 'disgust', 'score': 0.043422672897577286},\n",
       "  {'label': 'surprise', 'score': 0.02830057218670845},\n",
       "  {'label': 'joy', 'score': 0.014211490750312805},\n",
       "  {'label': 'fear', 'score': 0.014084091410040855},\n",
       "  {'label': 'anger', 'score': 0.011031905189156532}],\n",
       " [{'label': 'fear', 'score': 0.9281682968139648},\n",
       "  {'label': 'anger', 'score': 0.03219081461429596},\n",
       "  {'label': 'neutral', 'score': 0.012808660045266151},\n",
       "  {'label': 'sadness', 'score': 0.008756875991821289},\n",
       "  {'label': 'surprise', 'score': 0.008597892709076405},\n",
       "  {'label': 'disgust', 'score': 0.008431807160377502},\n",
       "  {'label': 'joy', 'score': 0.0010455832816660404}],\n",
       " [{'label': 'sadness', 'score': 0.9671575427055359},\n",
       "  {'label': 'neutral', 'score': 0.015104148536920547},\n",
       "  {'label': 'disgust', 'score': 0.00648059556260705},\n",
       "  {'label': 'fear', 'score': 0.005393987521529198},\n",
       "  {'label': 'surprise', 'score': 0.0022869398817420006},\n",
       "  {'label': 'anger', 'score': 0.001842890284024179},\n",
       "  {'label': 'joy', 'score': 0.0017338779289275408}],\n",
       " [{'label': 'joy', 'score': 0.9327981472015381},\n",
       "  {'label': 'disgust', 'score': 0.0377170704305172},\n",
       "  {'label': 'neutral', 'score': 0.015891827642917633},\n",
       "  {'label': 'sadness', 'score': 0.006444500293582678},\n",
       "  {'label': 'anger', 'score': 0.005024968180805445},\n",
       "  {'label': 'surprise', 'score': 0.0015812065685167909},\n",
       "  {'label': 'fear', 'score': 0.0005423057009465992}],\n",
       " [{'label': 'joy', 'score': 0.6528705954551697},\n",
       "  {'label': 'neutral', 'score': 0.25427478551864624},\n",
       "  {'label': 'surprise', 'score': 0.06808297336101532},\n",
       "  {'label': 'sadness', 'score': 0.009908991865813732},\n",
       "  {'label': 'disgust', 'score': 0.006512214429676533},\n",
       "  {'label': 'anger', 'score': 0.0048213074915111065},\n",
       "  {'label': 'fear', 'score': 0.003529018023982644}],\n",
       " [{'label': 'neutral', 'score': 0.549476683139801},\n",
       "  {'label': 'sadness', 'score': 0.11169019341468811},\n",
       "  {'label': 'disgust', 'score': 0.10400673747062683},\n",
       "  {'label': 'surprise', 'score': 0.07876546680927277},\n",
       "  {'label': 'anger', 'score': 0.06413363665342331},\n",
       "  {'label': 'fear', 'score': 0.051362838596105576},\n",
       "  {'label': 'joy', 'score': 0.04056441783905029}]]"
      ]
     },
     "execution_count": 6,
     "metadata": {},
     "output_type": "execute_result"
    }
   ],
   "source": [
    "classifier(books[\"description\"][0].split(\".\"))"
   ]
  },
  {
   "cell_type": "code",
   "execution_count": 7,
   "id": "4b17c694",
   "metadata": {},
   "outputs": [],
   "source": [
    "sentences = books[\"description\"][0].split(\".\")\n",
    "predictions = classifier(sentences)"
   ]
  },
  {
   "cell_type": "code",
   "execution_count": 8,
   "id": "6b8a47ec",
   "metadata": {},
   "outputs": [
    {
     "name": "stdout",
     "output_type": "stream",
     "text": [
      "A NOVEL THAT READERS and critics have been eagerly anticipating for over a decade, Gilead is an astonishingly imagined story of remarkable lives\n",
      "[{'label': 'surprise', 'score': 0.7296021580696106}, {'label': 'neutral', 'score': 0.14038598537445068}, {'label': 'fear', 'score': 0.06816227734088898}, {'label': 'joy', 'score': 0.04794260486960411}, {'label': 'anger', 'score': 0.009156367741525173}, {'label': 'disgust', 'score': 0.0026284768246114254}, {'label': 'sadness', 'score': 0.002122163772583008}]\n"
     ]
    }
   ],
   "source": [
    "print(sentences[0])\n",
    "print(predictions[0])"
   ]
  },
  {
   "cell_type": "code",
   "execution_count": 9,
   "id": "4695fce9",
   "metadata": {},
   "outputs": [
    {
     "data": {
      "text/plain": [
       "[{'label': 'anger', 'score': 0.009156367741525173},\n",
       " {'label': 'disgust', 'score': 0.0026284768246114254},\n",
       " {'label': 'fear', 'score': 0.06816227734088898},\n",
       " {'label': 'joy', 'score': 0.04794260486960411},\n",
       " {'label': 'neutral', 'score': 0.14038598537445068},\n",
       " {'label': 'sadness', 'score': 0.002122163772583008},\n",
       " {'label': 'surprise', 'score': 0.7296021580696106}]"
      ]
     },
     "execution_count": 9,
     "metadata": {},
     "output_type": "execute_result"
    }
   ],
   "source": [
    "sorted(predictions[0], key=lambda x: x[\"label\"])"
   ]
  },
  {
   "cell_type": "code",
   "execution_count": 10,
   "id": "e1aeb6ed",
   "metadata": {},
   "outputs": [],
   "source": [
    "import numpy as np\n",
    "\n",
    "emotion_labels = [\"anger\", \"disgust\", \"fear\", \"joy\", \"sadness\", \"surprise\", \"neutral\"]\n",
    "isbn = []\n",
    "emotion_scores = {label: [] for label in emotion_labels}\n",
    "\n",
    "def calculate_max_emotion_scores(predictions):\n",
    "    per_emotion_scores = {label: [] for label in emotion_labels}\n",
    "    for prediction in predictions:\n",
    "        sorted_predictions = sorted(prediction, key=lambda x: x[\"label\"])\n",
    "        for index, label in enumerate(emotion_labels):\n",
    "            per_emotion_scores[label].append(sorted_predictions[index][\"score\"])\n",
    "    return {label: np.max(scores) for label, scores in per_emotion_scores.items()}"
   ]
  },
  {
   "cell_type": "code",
   "execution_count": 11,
   "id": "c80255ce",
   "metadata": {},
   "outputs": [],
   "source": [
    "for i in range(10):\n",
    "    isbn.append(books[\"isbn13\"][i])\n",
    "    sentences = books[\"description\"][i].split(\".\")\n",
    "    predictions = classifier(sentences)\n",
    "    max_scores = calculate_max_emotion_scores(predictions)\n",
    "    for label in emotion_labels:\n",
    "        emotion_scores[label].append(max_scores[label])"
   ]
  },
  {
   "cell_type": "code",
   "execution_count": 12,
   "id": "3e8c8cf7",
   "metadata": {},
   "outputs": [
    {
     "data": {
      "text/plain": [
       "{'anger': [np.float64(0.06413363665342331),\n",
       "  np.float64(0.6126194596290588),\n",
       "  np.float64(0.06413363665342331),\n",
       "  np.float64(0.35148516297340393),\n",
       "  np.float64(0.0814124271273613),\n",
       "  np.float64(0.23222433030605316),\n",
       "  np.float64(0.5381842255592346),\n",
       "  np.float64(0.06413363665342331),\n",
       "  np.float64(0.3006698489189148),\n",
       "  np.float64(0.06413363665342331)],\n",
       " 'disgust': [np.float64(0.27359113097190857),\n",
       "  np.float64(0.3482842445373535),\n",
       "  np.float64(0.10400673747062683),\n",
       "  np.float64(0.1507222205400467),\n",
       "  np.float64(0.18449550867080688),\n",
       "  np.float64(0.7271752953529358),\n",
       "  np.float64(0.15585486590862274),\n",
       "  np.float64(0.10400673747062683),\n",
       "  np.float64(0.27948102355003357),\n",
       "  np.float64(0.1779264211654663)],\n",
       " 'fear': [np.float64(0.9281682968139648),\n",
       "  np.float64(0.942527711391449),\n",
       "  np.float64(0.9723207950592041),\n",
       "  np.float64(0.36070549488067627),\n",
       "  np.float64(0.09504342079162598),\n",
       "  np.float64(0.051362838596105576),\n",
       "  np.float64(0.7474275231361389),\n",
       "  np.float64(0.4044971764087677),\n",
       "  np.float64(0.9155240654945374),\n",
       "  np.float64(0.051362838596105576)],\n",
       " 'joy': [np.float64(0.9327981472015381),\n",
       "  np.float64(0.7044221758842468),\n",
       "  np.float64(0.7672385573387146),\n",
       "  np.float64(0.25188156962394714),\n",
       "  np.float64(0.04056441783905029),\n",
       "  np.float64(0.04337583854794502),\n",
       "  np.float64(0.872565746307373),\n",
       "  np.float64(0.04056441783905029),\n",
       "  np.float64(0.04056441783905029),\n",
       "  np.float64(0.04056441783905029)],\n",
       " 'sadness': [np.float64(0.6462159156799316),\n",
       "  np.float64(0.8879395127296448),\n",
       "  np.float64(0.549476683139801),\n",
       "  np.float64(0.7326849102973938),\n",
       "  np.float64(0.8843895196914673),\n",
       "  np.float64(0.6213918328285217),\n",
       "  np.float64(0.7121940851211548),\n",
       "  np.float64(0.549476683139801),\n",
       "  np.float64(0.8402892351150513),\n",
       "  np.float64(0.8603723645210266)],\n",
       " 'surprise': [np.float64(0.9671575427055359),\n",
       "  np.float64(0.11169019341468811),\n",
       "  np.float64(0.11169019341468811),\n",
       "  np.float64(0.11169019341468811),\n",
       "  np.float64(0.4758801758289337),\n",
       "  np.float64(0.11169019341468811),\n",
       "  np.float64(0.40800151228904724),\n",
       "  np.float64(0.8202826380729675),\n",
       "  np.float64(0.35446202754974365),\n",
       "  np.float64(0.11169019341468811)],\n",
       " 'neutral': [np.float64(0.7296021580696106),\n",
       "  np.float64(0.25254595279693604),\n",
       "  np.float64(0.07876546680927277),\n",
       "  np.float64(0.07876546680927277),\n",
       "  np.float64(0.07876546680927277),\n",
       "  np.float64(0.27190354466438293),\n",
       "  np.float64(0.07876546680927277),\n",
       "  np.float64(0.23448696732521057),\n",
       "  np.float64(0.1356135606765747),\n",
       "  np.float64(0.07876546680927277)]}"
      ]
     },
     "execution_count": 12,
     "metadata": {},
     "output_type": "execute_result"
    }
   ],
   "source": [
    "emotion_scores"
   ]
  },
  {
   "cell_type": "code",
   "execution_count": 13,
   "id": "1bc0cafa",
   "metadata": {},
   "outputs": [
    {
     "name": "stderr",
     "output_type": "stream",
     "text": [
      "100%|██████████| 5197/5197 [12:16<00:00,  7.05it/s]\n"
     ]
    }
   ],
   "source": [
    "from tqdm import tqdm\n",
    "\n",
    "emotion_labels = [\"anger\", \"disgust\", \"fear\", \"joy\", \"sadness\", \"surprise\", \"neutral\"]\n",
    "isbn = []\n",
    "emotion_scores = {label: [] for label in emotion_labels}\n",
    "\n",
    "for i in tqdm(range(len(books))):\n",
    "    isbn.append(books[\"isbn13\"][i])\n",
    "    sentences = books[\"description\"][i].split(\".\")\n",
    "    predictions = classifier(sentences)\n",
    "    max_scores = calculate_max_emotion_scores(predictions)\n",
    "    for label in emotion_labels:\n",
    "        emotion_scores[label].append(max_scores[label])"
   ]
  },
  {
   "cell_type": "code",
   "execution_count": 14,
   "id": "72dbb3ee",
   "metadata": {},
   "outputs": [
    {
     "data": {
      "application/vnd.microsoft.datawrangler.viewer.v0+json": {
       "columns": [
        {
         "name": "index",
         "rawType": "int64",
         "type": "integer"
        },
        {
         "name": "anger",
         "rawType": "float64",
         "type": "float"
        },
        {
         "name": "disgust",
         "rawType": "float64",
         "type": "float"
        },
        {
         "name": "fear",
         "rawType": "float64",
         "type": "float"
        },
        {
         "name": "joy",
         "rawType": "float64",
         "type": "float"
        },
        {
         "name": "sadness",
         "rawType": "float64",
         "type": "float"
        },
        {
         "name": "surprise",
         "rawType": "float64",
         "type": "float"
        },
        {
         "name": "neutral",
         "rawType": "float64",
         "type": "float"
        },
        {
         "name": "isbn13",
         "rawType": "int64",
         "type": "integer"
        }
       ],
       "ref": "5c57b265-08b5-462e-b05d-2f0ed0552f60",
       "rows": [
        [
         "0",
         "0.06413363665342331",
         "0.27359113097190857",
         "0.9281682968139648",
         "0.9327981472015381",
         "0.6462159156799316",
         "0.9671575427055359",
         "0.7296021580696106",
         "9780002005883"
        ],
        [
         "1",
         "0.6126194596290588",
         "0.3482842445373535",
         "0.942527711391449",
         "0.7044221758842468",
         "0.8879395127296448",
         "0.11169019341468811",
         "0.25254595279693604",
         "9780002261982"
        ],
        [
         "2",
         "0.06413363665342331",
         "0.10400673747062683",
         "0.9723207950592041",
         "0.7672385573387146",
         "0.549476683139801",
         "0.11169019341468811",
         "0.07876546680927277",
         "9780006178736"
        ],
        [
         "3",
         "0.35148516297340393",
         "0.1507222205400467",
         "0.36070549488067627",
         "0.25188156962394714",
         "0.7326849102973938",
         "0.11169019341468811",
         "0.07876546680927277",
         "9780006280897"
        ],
        [
         "4",
         "0.0814124271273613",
         "0.18449550867080688",
         "0.09504342079162598",
         "0.04056441783905029",
         "0.8843895196914673",
         "0.4758801758289337",
         "0.07876546680927277",
         "9780006280934"
        ]
       ],
       "shape": {
        "columns": 8,
        "rows": 5
       }
      },
      "text/html": [
       "<div>\n",
       "<style scoped>\n",
       "    .dataframe tbody tr th:only-of-type {\n",
       "        vertical-align: middle;\n",
       "    }\n",
       "\n",
       "    .dataframe tbody tr th {\n",
       "        vertical-align: top;\n",
       "    }\n",
       "\n",
       "    .dataframe thead th {\n",
       "        text-align: right;\n",
       "    }\n",
       "</style>\n",
       "<table border=\"1\" class=\"dataframe\">\n",
       "  <thead>\n",
       "    <tr style=\"text-align: right;\">\n",
       "      <th></th>\n",
       "      <th>anger</th>\n",
       "      <th>disgust</th>\n",
       "      <th>fear</th>\n",
       "      <th>joy</th>\n",
       "      <th>sadness</th>\n",
       "      <th>surprise</th>\n",
       "      <th>neutral</th>\n",
       "      <th>isbn13</th>\n",
       "    </tr>\n",
       "  </thead>\n",
       "  <tbody>\n",
       "    <tr>\n",
       "      <th>0</th>\n",
       "      <td>0.064134</td>\n",
       "      <td>0.273591</td>\n",
       "      <td>0.928168</td>\n",
       "      <td>0.932798</td>\n",
       "      <td>0.646216</td>\n",
       "      <td>0.967158</td>\n",
       "      <td>0.729602</td>\n",
       "      <td>9780002005883</td>\n",
       "    </tr>\n",
       "    <tr>\n",
       "      <th>1</th>\n",
       "      <td>0.612619</td>\n",
       "      <td>0.348284</td>\n",
       "      <td>0.942528</td>\n",
       "      <td>0.704422</td>\n",
       "      <td>0.887940</td>\n",
       "      <td>0.111690</td>\n",
       "      <td>0.252546</td>\n",
       "      <td>9780002261982</td>\n",
       "    </tr>\n",
       "    <tr>\n",
       "      <th>2</th>\n",
       "      <td>0.064134</td>\n",
       "      <td>0.104007</td>\n",
       "      <td>0.972321</td>\n",
       "      <td>0.767239</td>\n",
       "      <td>0.549477</td>\n",
       "      <td>0.111690</td>\n",
       "      <td>0.078765</td>\n",
       "      <td>9780006178736</td>\n",
       "    </tr>\n",
       "    <tr>\n",
       "      <th>3</th>\n",
       "      <td>0.351485</td>\n",
       "      <td>0.150722</td>\n",
       "      <td>0.360705</td>\n",
       "      <td>0.251882</td>\n",
       "      <td>0.732685</td>\n",
       "      <td>0.111690</td>\n",
       "      <td>0.078765</td>\n",
       "      <td>9780006280897</td>\n",
       "    </tr>\n",
       "    <tr>\n",
       "      <th>4</th>\n",
       "      <td>0.081412</td>\n",
       "      <td>0.184496</td>\n",
       "      <td>0.095043</td>\n",
       "      <td>0.040564</td>\n",
       "      <td>0.884390</td>\n",
       "      <td>0.475880</td>\n",
       "      <td>0.078765</td>\n",
       "      <td>9780006280934</td>\n",
       "    </tr>\n",
       "  </tbody>\n",
       "</table>\n",
       "</div>"
      ],
      "text/plain": [
       "      anger   disgust      fear       joy   sadness  surprise   neutral  \\\n",
       "0  0.064134  0.273591  0.928168  0.932798  0.646216  0.967158  0.729602   \n",
       "1  0.612619  0.348284  0.942528  0.704422  0.887940  0.111690  0.252546   \n",
       "2  0.064134  0.104007  0.972321  0.767239  0.549477  0.111690  0.078765   \n",
       "3  0.351485  0.150722  0.360705  0.251882  0.732685  0.111690  0.078765   \n",
       "4  0.081412  0.184496  0.095043  0.040564  0.884390  0.475880  0.078765   \n",
       "\n",
       "          isbn13  \n",
       "0  9780002005883  \n",
       "1  9780002261982  \n",
       "2  9780006178736  \n",
       "3  9780006280897  \n",
       "4  9780006280934  "
      ]
     },
     "execution_count": 14,
     "metadata": {},
     "output_type": "execute_result"
    }
   ],
   "source": [
    "emotions_df = pd.DataFrame(emotion_scores)\n",
    "emotions_df[\"isbn13\"] = isbn\n",
    "emotions_df.head()"
   ]
  },
  {
   "cell_type": "code",
   "execution_count": 15,
   "id": "48b2f736",
   "metadata": {},
   "outputs": [],
   "source": [
    "books = pd.merge(books, emotions_df, on = \"isbn13\")"
   ]
  },
  {
   "cell_type": "code",
   "execution_count": 17,
   "id": "a4577e22",
   "metadata": {},
   "outputs": [
    {
     "data": {
      "application/vnd.microsoft.datawrangler.viewer.v0+json": {
       "columns": [
        {
         "name": "index",
         "rawType": "int64",
         "type": "integer"
        },
        {
         "name": "isbn13",
         "rawType": "int64",
         "type": "integer"
        },
        {
         "name": "isbn10",
         "rawType": "object",
         "type": "string"
        },
        {
         "name": "title",
         "rawType": "object",
         "type": "string"
        },
        {
         "name": "authors",
         "rawType": "object",
         "type": "string"
        },
        {
         "name": "categories",
         "rawType": "object",
         "type": "string"
        },
        {
         "name": "thumbnail",
         "rawType": "object",
         "type": "string"
        },
        {
         "name": "description",
         "rawType": "object",
         "type": "string"
        },
        {
         "name": "published_year",
         "rawType": "float64",
         "type": "float"
        },
        {
         "name": "average_rating",
         "rawType": "float64",
         "type": "float"
        },
        {
         "name": "num_pages",
         "rawType": "float64",
         "type": "float"
        },
        {
         "name": "ratings_count",
         "rawType": "float64",
         "type": "float"
        },
        {
         "name": "title_and_subtitle",
         "rawType": "object",
         "type": "string"
        },
        {
         "name": "tagged_description",
         "rawType": "object",
         "type": "string"
        },
        {
         "name": "simple_categories",
         "rawType": "object",
         "type": "string"
        },
        {
         "name": "anger",
         "rawType": "float64",
         "type": "float"
        },
        {
         "name": "disgust",
         "rawType": "float64",
         "type": "float"
        },
        {
         "name": "fear",
         "rawType": "float64",
         "type": "float"
        },
        {
         "name": "joy",
         "rawType": "float64",
         "type": "float"
        },
        {
         "name": "sadness",
         "rawType": "float64",
         "type": "float"
        },
        {
         "name": "surprise",
         "rawType": "float64",
         "type": "float"
        },
        {
         "name": "neutral",
         "rawType": "float64",
         "type": "float"
        }
       ],
       "ref": "d1fb6858-6e26-4f3d-b4e2-8224d190f4a8",
       "rows": [
        [
         "0",
         "9780002005883",
         "0002005883",
         "Gilead",
         "Marilynne Robinson",
         "Fiction",
         "http://books.google.com/books/content?id=KQZCPgAACAAJ&printsec=frontcover&img=1&zoom=1&source=gbs_api",
         "A NOVEL THAT READERS and critics have been eagerly anticipating for over a decade, Gilead is an astonishingly imagined story of remarkable lives. John Ames is a preacher, the son of a preacher and the grandson (both maternal and paternal) of preachers. It’s 1956 in Gilead, Iowa, towards the end of the Reverend Ames’s life, and he is absorbed in recording his family’s story, a legacy for the young son he will never see grow up. Haunted by his grandfather’s presence, John tells of the rift between his grandfather and his father: the elder, an angry visionary who fought for the abolitionist cause, and his son, an ardent pacifist. He is troubled, too, by his prodigal namesake, Jack (John Ames) Boughton, his best friend’s lost son who returns to Gilead searching for forgiveness and redemption. Told in John Ames’s joyous, rambling voice that finds beauty, humour and truth in the smallest of life’s details, Gilead is a song of celebration and acceptance of the best and the worst the world has to offer. At its heart is a tale of the sacred bonds between fathers and sons, pitch-perfect in style and story, set to dazzle critics and readers alike.",
         "2004.0",
         "3.85",
         "247.0",
         "361.0",
         "Gilead",
         "9780002005883 A NOVEL THAT READERS and critics have been eagerly anticipating for over a decade, Gilead is an astonishingly imagined story of remarkable lives. John Ames is a preacher, the son of a preacher and the grandson (both maternal and paternal) of preachers. It’s 1956 in Gilead, Iowa, towards the end of the Reverend Ames’s life, and he is absorbed in recording his family’s story, a legacy for the young son he will never see grow up. Haunted by his grandfather’s presence, John tells of the rift between his grandfather and his father: the elder, an angry visionary who fought for the abolitionist cause, and his son, an ardent pacifist. He is troubled, too, by his prodigal namesake, Jack (John Ames) Boughton, his best friend’s lost son who returns to Gilead searching for forgiveness and redemption. Told in John Ames’s joyous, rambling voice that finds beauty, humour and truth in the smallest of life’s details, Gilead is a song of celebration and acceptance of the best and the worst the world has to offer. At its heart is a tale of the sacred bonds between fathers and sons, pitch-perfect in style and story, set to dazzle critics and readers alike.",
         "Fiction",
         "0.06413363665342331",
         "0.27359113097190857",
         "0.9281682968139648",
         "0.9327981472015381",
         "0.6462159156799316",
         "0.9671575427055359",
         "0.7296021580696106"
        ],
        [
         "1",
         "9780002261982",
         "0002261987",
         "Spider's Web",
         "Charles Osborne;Agatha Christie",
         "Detective and mystery stories",
         "http://books.google.com/books/content?id=gA5GPgAACAAJ&printsec=frontcover&img=1&zoom=1&source=gbs_api",
         "A new 'Christie for Christmas' -- a full-length novel adapted from her acclaimed play by Charles Osborne Following BLACK COFFEE and THE UNEXPECTED GUEST comes the final Agatha Christie play novelisation, bringing her superb storytelling to a new legion of fans. Clarissa, the wife of a Foreign Office diplomat, is given to daydreaming. 'Supposing I were to come down one morning and find a dead body in the library, what should I do?' she muses. Clarissa has her chance to find out when she discovers a body in the drawing-room of her house in Kent. Desperate to dispose of the body before her husband comes home with an important foreign politician, Clarissa persuades her three house guests to become accessories and accomplices. It seems that the murdered man was not unknown to certain members of the house party (but which ones?), and the search begins for the murderer and the motive, while at the same time trying to persuade a police inspector that there has been no murder at all... SPIDER'S WEB was written in 1954 specifically for Margaret Lockwood and opened first at the Theatre Royal Nottingham before moving to the Savoy Theatre in London on 14 December 1954. With THE MOUSETRAP and WI",
         "2000.0",
         "3.83",
         "241.0",
         "5164.0",
         "Spider's Web: A Novel",
         "9780002261982 A new 'Christie for Christmas' -- a full-length novel adapted from her acclaimed play by Charles Osborne Following BLACK COFFEE and THE UNEXPECTED GUEST comes the final Agatha Christie play novelisation, bringing her superb storytelling to a new legion of fans. Clarissa, the wife of a Foreign Office diplomat, is given to daydreaming. 'Supposing I were to come down one morning and find a dead body in the library, what should I do?' she muses. Clarissa has her chance to find out when she discovers a body in the drawing-room of her house in Kent. Desperate to dispose of the body before her husband comes home with an important foreign politician, Clarissa persuades her three house guests to become accessories and accomplices. It seems that the murdered man was not unknown to certain members of the house party (but which ones?), and the search begins for the murderer and the motive, while at the same time trying to persuade a police inspector that there has been no murder at all... SPIDER'S WEB was written in 1954 specifically for Margaret Lockwood and opened first at the Theatre Royal Nottingham before moving to the Savoy Theatre in London on 14 December 1954. With THE MOUSETRAP and WI",
         "Fiction",
         "0.6126194596290588",
         "0.3482842445373535",
         "0.942527711391449",
         "0.7044221758842468",
         "0.8879395127296448",
         "0.11169019341468811",
         "0.25254595279693604"
        ],
        [
         "2",
         "9780006178736",
         "0006178731",
         "Rage of angels",
         "Sidney Sheldon",
         "Fiction",
         "http://books.google.com/books/content?id=FKo2TgANz74C&printsec=frontcover&img=1&zoom=1&source=gbs_api",
         "A memorable, mesmerizing heroine Jennifer -- brilliant, beautiful, an attorney on the way up until the Mafia's schemes win her the hatred of an implacable enemy -- and a love more destructive than hate. A dangerous, dramatic world The Dark Arena of organized crime and flashbulb lit courtrooms where ambitious prosecutors begin their climb to political power.",
         "1993.0",
         "3.93",
         "512.0",
         "29532.0",
         "Rage of angels",
         "9780006178736 A memorable, mesmerizing heroine Jennifer -- brilliant, beautiful, an attorney on the way up until the Mafia's schemes win her the hatred of an implacable enemy -- and a love more destructive than hate. A dangerous, dramatic world The Dark Arena of organized crime and flashbulb lit courtrooms where ambitious prosecutors begin their climb to political power.",
         "Fiction",
         "0.06413363665342331",
         "0.10400673747062683",
         "0.9723207950592041",
         "0.7672385573387146",
         "0.549476683139801",
         "0.11169019341468811",
         "0.07876546680927277"
        ],
        [
         "3",
         "9780006280897",
         "0006280897",
         "The Four Loves",
         "Clive Staples Lewis",
         "Christian life",
         "http://books.google.com/books/content?id=XhQ5XsFcpGIC&printsec=frontcover&img=1&zoom=1&source=gbs_api",
         "Lewis' work on the nature of love divides love into four categories; Affection, Friendship, Eros and Charity. The first three come naturally to humanity. Charity, however, the Gift-love of God, is divine, and without this supernatural love, the natural loves become distorted and even dangerous.",
         "2002.0",
         "4.15",
         "170.0",
         "33684.0",
         "The Four Loves",
         "9780006280897 Lewis' work on the nature of love divides love into four categories; Affection, Friendship, Eros and Charity. The first three come naturally to humanity. Charity, however, the Gift-love of God, is divine, and without this supernatural love, the natural loves become distorted and even dangerous.",
         "Nonfiction",
         "0.35148516297340393",
         "0.1507222205400467",
         "0.36070549488067627",
         "0.25188156962394714",
         "0.7326849102973938",
         "0.11169019341468811",
         "0.07876546680927277"
        ],
        [
         "4",
         "9780006280934",
         "0006280935",
         "The Problem of Pain",
         "Clive Staples Lewis",
         "Christian life",
         "http://books.google.com/books/content?id=Kk-uVe5QK-gC&printsec=frontcover&img=1&zoom=1&source=gbs_api",
         "\"In The Problem of Pain, C.S. Lewis, one of the most renowned Christian authors and thinkers, examines a universally applicable question within the human condition: If God is good and all-powerful, why does he allow his creatures to suffer pain? With his signature wealth of compassion and insight, C.S. Lewis offers answers to these crucial questions and shares his hope and wisdom to help heal a world hungering for a true understanding of human nature.\"--Amazon.",
         "2002.0",
         "4.09",
         "176.0",
         "37569.0",
         "The Problem of Pain",
         "9780006280934 \"In The Problem of Pain, C.S. Lewis, one of the most renowned Christian authors and thinkers, examines a universally applicable question within the human condition: If God is good and all-powerful, why does he allow his creatures to suffer pain? With his signature wealth of compassion and insight, C.S. Lewis offers answers to these crucial questions and shares his hope and wisdom to help heal a world hungering for a true understanding of human nature.\"--Amazon.",
         "Nonfiction",
         "0.0814124271273613",
         "0.18449550867080688",
         "0.09504342079162598",
         "0.04056441783905029",
         "0.8843895196914673",
         "0.4758801758289337",
         "0.07876546680927277"
        ]
       ],
       "shape": {
        "columns": 21,
        "rows": 5
       }
      },
      "text/html": [
       "<div>\n",
       "<style scoped>\n",
       "    .dataframe tbody tr th:only-of-type {\n",
       "        vertical-align: middle;\n",
       "    }\n",
       "\n",
       "    .dataframe tbody tr th {\n",
       "        vertical-align: top;\n",
       "    }\n",
       "\n",
       "    .dataframe thead th {\n",
       "        text-align: right;\n",
       "    }\n",
       "</style>\n",
       "<table border=\"1\" class=\"dataframe\">\n",
       "  <thead>\n",
       "    <tr style=\"text-align: right;\">\n",
       "      <th></th>\n",
       "      <th>isbn13</th>\n",
       "      <th>isbn10</th>\n",
       "      <th>title</th>\n",
       "      <th>authors</th>\n",
       "      <th>categories</th>\n",
       "      <th>thumbnail</th>\n",
       "      <th>description</th>\n",
       "      <th>published_year</th>\n",
       "      <th>average_rating</th>\n",
       "      <th>num_pages</th>\n",
       "      <th>...</th>\n",
       "      <th>title_and_subtitle</th>\n",
       "      <th>tagged_description</th>\n",
       "      <th>simple_categories</th>\n",
       "      <th>anger</th>\n",
       "      <th>disgust</th>\n",
       "      <th>fear</th>\n",
       "      <th>joy</th>\n",
       "      <th>sadness</th>\n",
       "      <th>surprise</th>\n",
       "      <th>neutral</th>\n",
       "    </tr>\n",
       "  </thead>\n",
       "  <tbody>\n",
       "    <tr>\n",
       "      <th>0</th>\n",
       "      <td>9780002005883</td>\n",
       "      <td>0002005883</td>\n",
       "      <td>Gilead</td>\n",
       "      <td>Marilynne Robinson</td>\n",
       "      <td>Fiction</td>\n",
       "      <td>http://books.google.com/books/content?id=KQZCP...</td>\n",
       "      <td>A NOVEL THAT READERS and critics have been eag...</td>\n",
       "      <td>2004.0</td>\n",
       "      <td>3.85</td>\n",
       "      <td>247.0</td>\n",
       "      <td>...</td>\n",
       "      <td>Gilead</td>\n",
       "      <td>9780002005883 A NOVEL THAT READERS and critics...</td>\n",
       "      <td>Fiction</td>\n",
       "      <td>0.064134</td>\n",
       "      <td>0.273591</td>\n",
       "      <td>0.928168</td>\n",
       "      <td>0.932798</td>\n",
       "      <td>0.646216</td>\n",
       "      <td>0.967158</td>\n",
       "      <td>0.729602</td>\n",
       "    </tr>\n",
       "    <tr>\n",
       "      <th>1</th>\n",
       "      <td>9780002261982</td>\n",
       "      <td>0002261987</td>\n",
       "      <td>Spider's Web</td>\n",
       "      <td>Charles Osborne;Agatha Christie</td>\n",
       "      <td>Detective and mystery stories</td>\n",
       "      <td>http://books.google.com/books/content?id=gA5GP...</td>\n",
       "      <td>A new 'Christie for Christmas' -- a full-lengt...</td>\n",
       "      <td>2000.0</td>\n",
       "      <td>3.83</td>\n",
       "      <td>241.0</td>\n",
       "      <td>...</td>\n",
       "      <td>Spider's Web: A Novel</td>\n",
       "      <td>9780002261982 A new 'Christie for Christmas' -...</td>\n",
       "      <td>Fiction</td>\n",
       "      <td>0.612619</td>\n",
       "      <td>0.348284</td>\n",
       "      <td>0.942528</td>\n",
       "      <td>0.704422</td>\n",
       "      <td>0.887940</td>\n",
       "      <td>0.111690</td>\n",
       "      <td>0.252546</td>\n",
       "    </tr>\n",
       "    <tr>\n",
       "      <th>2</th>\n",
       "      <td>9780006178736</td>\n",
       "      <td>0006178731</td>\n",
       "      <td>Rage of angels</td>\n",
       "      <td>Sidney Sheldon</td>\n",
       "      <td>Fiction</td>\n",
       "      <td>http://books.google.com/books/content?id=FKo2T...</td>\n",
       "      <td>A memorable, mesmerizing heroine Jennifer -- b...</td>\n",
       "      <td>1993.0</td>\n",
       "      <td>3.93</td>\n",
       "      <td>512.0</td>\n",
       "      <td>...</td>\n",
       "      <td>Rage of angels</td>\n",
       "      <td>9780006178736 A memorable, mesmerizing heroine...</td>\n",
       "      <td>Fiction</td>\n",
       "      <td>0.064134</td>\n",
       "      <td>0.104007</td>\n",
       "      <td>0.972321</td>\n",
       "      <td>0.767239</td>\n",
       "      <td>0.549477</td>\n",
       "      <td>0.111690</td>\n",
       "      <td>0.078765</td>\n",
       "    </tr>\n",
       "    <tr>\n",
       "      <th>3</th>\n",
       "      <td>9780006280897</td>\n",
       "      <td>0006280897</td>\n",
       "      <td>The Four Loves</td>\n",
       "      <td>Clive Staples Lewis</td>\n",
       "      <td>Christian life</td>\n",
       "      <td>http://books.google.com/books/content?id=XhQ5X...</td>\n",
       "      <td>Lewis' work on the nature of love divides love...</td>\n",
       "      <td>2002.0</td>\n",
       "      <td>4.15</td>\n",
       "      <td>170.0</td>\n",
       "      <td>...</td>\n",
       "      <td>The Four Loves</td>\n",
       "      <td>9780006280897 Lewis' work on the nature of lov...</td>\n",
       "      <td>Nonfiction</td>\n",
       "      <td>0.351485</td>\n",
       "      <td>0.150722</td>\n",
       "      <td>0.360705</td>\n",
       "      <td>0.251882</td>\n",
       "      <td>0.732685</td>\n",
       "      <td>0.111690</td>\n",
       "      <td>0.078765</td>\n",
       "    </tr>\n",
       "    <tr>\n",
       "      <th>4</th>\n",
       "      <td>9780006280934</td>\n",
       "      <td>0006280935</td>\n",
       "      <td>The Problem of Pain</td>\n",
       "      <td>Clive Staples Lewis</td>\n",
       "      <td>Christian life</td>\n",
       "      <td>http://books.google.com/books/content?id=Kk-uV...</td>\n",
       "      <td>\"In The Problem of Pain, C.S. Lewis, one of th...</td>\n",
       "      <td>2002.0</td>\n",
       "      <td>4.09</td>\n",
       "      <td>176.0</td>\n",
       "      <td>...</td>\n",
       "      <td>The Problem of Pain</td>\n",
       "      <td>9780006280934 \"In The Problem of Pain, C.S. Le...</td>\n",
       "      <td>Nonfiction</td>\n",
       "      <td>0.081412</td>\n",
       "      <td>0.184496</td>\n",
       "      <td>0.095043</td>\n",
       "      <td>0.040564</td>\n",
       "      <td>0.884390</td>\n",
       "      <td>0.475880</td>\n",
       "      <td>0.078765</td>\n",
       "    </tr>\n",
       "  </tbody>\n",
       "</table>\n",
       "<p>5 rows × 21 columns</p>\n",
       "</div>"
      ],
      "text/plain": [
       "          isbn13      isbn10                title  \\\n",
       "0  9780002005883  0002005883               Gilead   \n",
       "1  9780002261982  0002261987         Spider's Web   \n",
       "2  9780006178736  0006178731       Rage of angels   \n",
       "3  9780006280897  0006280897       The Four Loves   \n",
       "4  9780006280934  0006280935  The Problem of Pain   \n",
       "\n",
       "                           authors                     categories  \\\n",
       "0               Marilynne Robinson                        Fiction   \n",
       "1  Charles Osborne;Agatha Christie  Detective and mystery stories   \n",
       "2                   Sidney Sheldon                        Fiction   \n",
       "3              Clive Staples Lewis                 Christian life   \n",
       "4              Clive Staples Lewis                 Christian life   \n",
       "\n",
       "                                           thumbnail  \\\n",
       "0  http://books.google.com/books/content?id=KQZCP...   \n",
       "1  http://books.google.com/books/content?id=gA5GP...   \n",
       "2  http://books.google.com/books/content?id=FKo2T...   \n",
       "3  http://books.google.com/books/content?id=XhQ5X...   \n",
       "4  http://books.google.com/books/content?id=Kk-uV...   \n",
       "\n",
       "                                         description  published_year  \\\n",
       "0  A NOVEL THAT READERS and critics have been eag...          2004.0   \n",
       "1  A new 'Christie for Christmas' -- a full-lengt...          2000.0   \n",
       "2  A memorable, mesmerizing heroine Jennifer -- b...          1993.0   \n",
       "3  Lewis' work on the nature of love divides love...          2002.0   \n",
       "4  \"In The Problem of Pain, C.S. Lewis, one of th...          2002.0   \n",
       "\n",
       "   average_rating  num_pages  ...     title_and_subtitle  \\\n",
       "0            3.85      247.0  ...                 Gilead   \n",
       "1            3.83      241.0  ...  Spider's Web: A Novel   \n",
       "2            3.93      512.0  ...         Rage of angels   \n",
       "3            4.15      170.0  ...         The Four Loves   \n",
       "4            4.09      176.0  ...    The Problem of Pain   \n",
       "\n",
       "                                  tagged_description simple_categories  \\\n",
       "0  9780002005883 A NOVEL THAT READERS and critics...           Fiction   \n",
       "1  9780002261982 A new 'Christie for Christmas' -...           Fiction   \n",
       "2  9780006178736 A memorable, mesmerizing heroine...           Fiction   \n",
       "3  9780006280897 Lewis' work on the nature of lov...        Nonfiction   \n",
       "4  9780006280934 \"In The Problem of Pain, C.S. Le...        Nonfiction   \n",
       "\n",
       "      anger   disgust      fear       joy   sadness  surprise   neutral  \n",
       "0  0.064134  0.273591  0.928168  0.932798  0.646216  0.967158  0.729602  \n",
       "1  0.612619  0.348284  0.942528  0.704422  0.887940  0.111690  0.252546  \n",
       "2  0.064134  0.104007  0.972321  0.767239  0.549477  0.111690  0.078765  \n",
       "3  0.351485  0.150722  0.360705  0.251882  0.732685  0.111690  0.078765  \n",
       "4  0.081412  0.184496  0.095043  0.040564  0.884390  0.475880  0.078765  \n",
       "\n",
       "[5 rows x 21 columns]"
      ]
     },
     "execution_count": 17,
     "metadata": {},
     "output_type": "execute_result"
    }
   ],
   "source": [
    "books.head()"
   ]
  },
  {
   "cell_type": "code",
   "execution_count": 16,
   "id": "8df0abd6",
   "metadata": {},
   "outputs": [],
   "source": [
    "books.to_csv(\"../data/books_with_emotions.csv\", index = False)"
   ]
  }
 ],
 "metadata": {
  "kernelspec": {
   "display_name": ".venv",
   "language": "python",
   "name": "python3"
  },
  "language_info": {
   "codemirror_mode": {
    "name": "ipython",
    "version": 3
   },
   "file_extension": ".py",
   "mimetype": "text/x-python",
   "name": "python",
   "nbconvert_exporter": "python",
   "pygments_lexer": "ipython3",
   "version": "3.13.5"
  }
 },
 "nbformat": 4,
 "nbformat_minor": 5
}
